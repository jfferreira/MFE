{
 "cells": [
  {
   "cell_type": "markdown",
   "metadata": {},
   "source": [
    "# MTH9879 Homework 9\n",
    "\n",
    "Assigned: April 4, 2019.\n",
    "Due: April 18, 2019 by 6pm. \n",
    "\n",
    "Late homework **will not be accepted**.\n",
    "\n",
    "$$\n",
    "\\newcommand{\\supp}{\\mathrm{supp}}\n",
    "\\newcommand{\\E}{\\mathbb{E}}\n",
    "\\newcommand{\\Eof}[1]{\\mathbb{E}\\left[ #1 \\right]}\n",
    "\\def\\Cov{{ \\mbox{Cov} }}\n",
    "\\def\\Var{{ \\mbox{Var} }}\n",
    "\\newcommand{\\1}{\\mathbf{1} }\n",
    "\\newcommand{\\PP}{\\mathbb{P} }\n",
    "%\\newcommand{\\Pr}{\\mathrm{Pr} }\n",
    "\\newcommand{\\QQ}{\\mathbb{Q} }\n",
    "\\newcommand{\\RR}{\\mathbb{R} }\n",
    "\\newcommand{\\DD}{\\mathbb{D} }\n",
    "\\newcommand{\\HH}{\\mathbb{H} }\n",
    "\\newcommand{\\spn}{\\mathrm{span} }\n",
    "\\newcommand{\\cov}{\\mathrm{cov} }\n",
    "\\newcommand{\\sgn}{\\mathrm{sgn} }\n",
    "\\newcommand{\\HS}{\\mathcal{L}_{\\mathrm{HS}} }\n",
    "%\\newcommand{\\HS}{\\mathrm{HS} }\n",
    "\\newcommand{\\trace}{\\mathrm{trace} }\n",
    "\\newcommand{\\LL}{\\mathcal{L} }\n",
    "%\\newcommand{\\LL}{\\mathrm{L} }\n",
    "\\newcommand{\\s}{\\mathcal{S} }\n",
    "\\newcommand{\\ee}{\\mathcal{E} }\n",
    "\\newcommand{\\ff}{\\mathcal{F} }\n",
    "\\newcommand{\\hh}{\\mathcal{H} }\n",
    "\\newcommand{\\bb}{\\mathcal{B} }\n",
    "\\newcommand{\\dd}{\\mathcal{D} }\n",
    "\\newcommand{\\g}{\\mathcal{G} }\n",
    "\\newcommand{\\p}{\\partial}\n",
    "\\newcommand{\\half}{\\frac{1}{2} }\n",
    "\\newcommand{\\T}{\\mathcal{T} }\n",
    "\\newcommand{\\bi}{\\begin{itemize}}\n",
    "\\newcommand{\\ei}{\\end{itemize}}\n",
    "\\newcommand{\\beq}{\\begin{equation}}\n",
    "\\newcommand{\\eeq}{\\end{equation}}\n",
    "\\newcommand{\\beas}{\\begin{eqnarray*}}\n",
    "\\newcommand{\\eeas}{\\end{eqnarray*}}\n",
    "\\newcommand{\\cO}{\\mathcal{O}}\n",
    "\\newcommand{\\cC}{\\mathcal{C}}\n",
    "\\newcommand{\\cF}{\\mathcal{F}}\n",
    "\\newcommand{\\cL}{\\mathcal{L}}\n",
    "\\newcommand{\\BS}{\\text{BS}}\n",
    "$$"
   ]
  },
  {
   "cell_type": "markdown",
   "metadata": {},
   "source": [
    "<font color = \"red\">Homework is to be done by each student individually.  To receive full credit, you must email a completed copy of this Jupyter notebook to Yassine Ghalane (yassine.ghalem@gmail.com), Victor Istrakov (stavka@gmail.com), and Tai-Ho Wang (tai-ho.wang@baruch.cuny.edu) by the due date and time.  All R-code must run correctly and solutions must be written up neatly in Markdown/LaTeX format.\n",
    "\n",
    "<font color=\"blue\">If you encounter problems with Markdown/LaTeX or Jupyter notebook, please contact your TAs."
   ]
  },
  {
   "cell_type": "markdown",
   "metadata": {},
   "source": [
    "### 1. (12 points)\n",
    "Following Almgren and Chriss,  assume that the stock price $S_t$ evolves as\n",
    "\n",
    "$$\n",
    "dS_t = \\sigma\\,dZ_t\n",
    "$$\n",
    "\n",
    "and the price $\\tilde S_t$ at which we transact is given by\n",
    "\n",
    "$$\n",
    "\\tilde S_t = S_t - \\eta\\,v_t\n",
    "$$\n",
    "\n",
    "where $v_t:=-{\\dot x}_t$ is the rate of trading with $x_0 = X$ and $x_T = 0$.\n",
    "\n",
    "In the lecture slides, we showed that with a risk term that penalizes average VaR instead of variance, the risk-adjusted cost of trading associated with a given price path $\\{S_t\\}$ is given by\n",
    "\n",
    "$$\n",
    "C = \\int_0^T\\,(S_t - \\eta\\,v_t) dx_t + \\lambda\\,\\sigma\\,\\int_0^T\\,x_t\\,dt\n",
    "$$\n",
    "\n",
    "for some price of risk $\\lambda$. We want to find a (possibly state-dependent) control $v_t$ that minimizes the expected cost $\\cC=\\E[C]$.\n",
    "\n",
    "(a) Apply the technique of integration by parts to simplify the term $\\int_0^T S_t dx_t$. Write down the HJB equation for the resulting problem.\n",
    "\n"
   ]
  },
  {
   "cell_type": "markdown",
   "metadata": {},
   "source": [
    "-----\n",
    "The expectation of the term $\\int_0^T S_t dx_t$ can be simplified as follows:\n",
    "$$\n",
    "\\begin{align}\n",
    "\\int_0^T S_t dx_t =& S_TX_T - S_0X_0 - \\int_0^T x_t dS_t & (\\text{integration by parts})\\\\ \n",
    "=& S_0X_0 - \\sigma\\int_0^T x_t dZ_t & (X_T=0; dS_t=\\sigma dZ_t)\\\\ \n",
    "\\implies& \\mathbb{E}\\left[\\int_0^T S_t dx_t\\right] = -S_0X & (\\text{Martingale expectation}) \n",
    "\\end{align}\n",
    "$$\n",
    "\n",
    "The cost equation is equal to the PnL equation negated:\n",
    "$$\n",
    "\\begin{align}\n",
    "\\cC(x) =&-\\Pi(x)\\\\ \n",
    "=&-X_T(S_T-S_0) - \\int_0^T (S_0 - \\tilde{S}_u) dx_u\\\\ \n",
    "=& - \\int_0^T (S_0 - S_u + \\eta v_u ) dx_u & (X_T=0; \\tilde{S}_u = S_t-\\eta v_t)\\\\ \n",
    "=& \\int_0^T (S_u - \\eta v_u ) dx_u & (\\text{simplify term as above})\\\\ \n",
    "\\end{align}\n",
    "$$\n",
    "\n",
    "Therefore, the value function can be expressed as:\n",
    "$$\n",
    "\\begin{align}\n",
    "\\cC(t,x) =& \\min_{v}\\left\\{ \\mathbb{E}[\\cC(x)] \\right\\}\\\\\n",
    "=& \\min_{v}\\left\\{ \\mathbb{E}\\left[\\int_0^T (S_t-\\eta v_t) dx_t + \\lambda \\sigma \\int_0^T x_t dt  \\right]  \\right\\}\\\\\n",
    "=& \\min_{v}\\left\\{ \\mathbb{E}\\left[\\int_0^T S_t dx_t + \\eta \\int_0^T \\dot{x_t} dx_t +  \\lambda \\sigma \\int_0^T x_t dt  \\right]  \\right\\} & (v_t = -\\dot{x}_t)\\\\\n",
    "=& \\min_{v}\\left\\{ S_0X - \\eta \\int_0^T \\dot{x_t}^2 dt +  \\lambda \\sigma \\int_0^T x_t dt  \\right\\} \\\\ \n",
    "=& \\min_{v}\\left\\{ \\eta \\int_t^T \\dot{x_t}^2 dt +  \\lambda \\sigma \\int_t^T x_t dt  \\right\\} \n",
    "\\end{align}\n",
    "$$\n",
    "\n",
    "Finally, the HJB control equation is:\n",
    "$$\n",
    "\\begin{align}\n",
    "&\\cC_t + \\lambda \\sigma x + \\min_{v}\\{ -v \\cC_x + \\eta v^2 \\} = 0\\\\\n",
    "&\\text{subject to}\\\\\n",
    "&\\lim_{t\\uparrow T}\\cC(t,x) = \\begin{cases}0&\\text{if $x=0$,}\\\\\n",
    "+\\infty&\\text{if $x\\neq0$.}\n",
    "\\end{cases}\n",
    "\\end{align}\n",
    "$$\n",
    "\n"
   ]
  },
  {
   "cell_type": "markdown",
   "metadata": {},
   "source": [
    "(b) Solve the first order condition to find the optimal trading rate $v^\\star$.    \n"
   ]
  },
  {
   "cell_type": "markdown",
   "metadata": {},
   "source": [
    "-----\n",
    "The first order condition when derivating with respect to $v$:\n",
    "$$\n",
    "\\begin{align}\n",
    "\\cC_v =& min_{v}\\left\\{ -\\cC_x + 2v\\eta \\right\\}\\\\ \n",
    "\\implies& \\cC_x = 2v\\eta\\\\ \n",
    "\\implies& v^\\star = \\frac{\\cC_x}{2\\eta}\\\\ \n",
    "\\end{align}\n",
    "$$"
   ]
  },
  {
   "cell_type": "markdown",
   "metadata": {},
   "source": [
    "\n",
    "(c) Substitute $v^\\star$ back into the HJB equation to show that the value function $\\cC$ must satisfy\n",
    "$$\n",
    "\\cC_t = \\frac{\\cC_x^2}{4\\,\\eta\\,} - \\lambda \\sigma x.\n",
    "$$\n"
   ]
  },
  {
   "cell_type": "markdown",
   "metadata": {},
   "source": [
    "-----\n",
    "$$\n",
    "\\begin{align}\n",
    "&C_t + \\lambda \\sigma x - \\frac{C_x^2}{2\\eta} + \\eta\\frac{C_x^2}{4\\eta^2} = 0\\\\\n",
    "\\implies& C_t + \\lambda \\sigma x - \\frac{C_x^2}{4\\eta} = 0\\\\\n",
    "\\implies& C_t = \\frac{C_x^2}{4\\eta} - \\lambda \\sigma x\\\\ \n",
    "\\end{align}\n",
    "$$"
   ]
  },
  {
   "cell_type": "markdown",
   "metadata": {},
   "source": [
    "\n",
    "(d) With the terminal condition, \n",
    "$$\\lim_{t\\uparrow T}\\cC(t,x) = \\begin{cases}0&\\text{if $x=0$,}\\\\\n",
    "+\\infty&\\text{if $x\\neq0$.}\n",
    "\\end{cases}$$\n",
    "solve the HJB equaiton with the ansatz $\\cC(t,x) = a(t)x^2 + b(t)x + c(t)$. Verify that the optimal trading strategy with liquidation horizon set to the characteristic time is given by\n",
    "\\begin{eqnarray*}\n",
    "x_t&=&X\\,\\left(1-\\frac{t}{T}\\right)^2.\n",
    "\\end{eqnarray*}\n",
    "Recall that with the notation of the lecture slides, the characteristic time is defined as\n",
    "$$\n",
    "T^\\star=\\sqrt{\\frac{2\\,X}{A}}=\\sqrt{\\frac{4\\,\\eta\\,X}{\\lambda\\,\\sigma}}\n",
    "$$\n",
    "Compute the risk-adjusted cost function $\\cC$ associated with this strategy. \n"
   ]
  },
  {
   "cell_type": "markdown",
   "metadata": {},
   "source": [
    "-----\n",
    "$$\n",
    "\\begin{align}\n",
    "&\\cC(t,x) = a(t) x^2 + b(t) x + c(t)\\\\\n",
    "\\implies& \\cC_t = \\dot{a} x^2 + \\dot{b} x + \\dot{c}\\\\\n",
    "\\implies& \\cC_x = 2ax + b\\\\\n",
    "\\end{align}\n",
    "$$\n",
    "\n",
    "Replacing the ansatz into the control equation:\n",
    "$$\n",
    "\\begin{align}\n",
    "&C_t + \\lambda \\sigma x - \\frac{C_x^2}{4\\eta} = 0\\\\\n",
    "\\implies& \\dot{a} x^2 + \\dot{b} x + \\dot{c} + \\lambda \\sigma x - \\frac{(2ax + b)^2}{4\\eta} = 0\\\\\n",
    "\\implies& \\dot{a} x^2 + \\dot{b} x + \\dot{c} + \\lambda \\sigma x - \\frac{4a^2x^2 + 4abx + b^2}{4\\eta} = 0\\\\\n",
    "\\implies& \\left(\\dot{a} -\\frac{a^2}{\\eta}\\right) x^2 + \\left(\\dot{b} + \\lambda \\sigma - \\frac{ab}{\\eta}\\right) x + \\left(\\dot{c} -\\frac{b^2}{4\\eta}\\right) = 0\\\\\n",
    "\\end{align}\n",
    "$$\n",
    "\n",
    "Each order term must be zero for the equation to be satisfied, converting the problem into a system of ODEs: \n",
    "\n",
    "$$\n",
    "\\begin{align}\n",
    "\\begin{cases}\n",
    "\\dot{a} -\\frac{a^2}{\\eta} = 0\\\\\n",
    "\\dot{b} + \\lambda \\sigma - \\frac{ab}{\\eta} = 0 \\\\\n",
    "\\dot{c} -\\frac{b^2}{4\\eta} = 0\\\\\n",
    "\\end{cases}\n",
    "\\end{align}\n",
    "$$\n"
   ]
  },
  {
   "cell_type": "markdown",
   "metadata": {},
   "source": [
    "Solving this system of equations we obtain:\n",
    "$$\n",
    "\\begin{align}\n",
    "&\\dot{a} - \\frac{a^2}{\\eta} = 0\\\\ \n",
    "\\implies& a(t) = \\frac{\\eta}{T-t}\\\\\n",
    "\\end{align}\n",
    "$$\n",
    "\n",
    "$$\n",
    "\\begin{align}\n",
    "&\\dot{b} + \\lambda \\sigma - \\frac{b}{T-t} = 0\\\\ \n",
    "\\implies& b(t) = \\frac{\\lambda \\sigma}{2}\\frac{t^2}{T-t} - \\lambda \\sigma T\\frac{t}{T-t}\\\\ \n",
    "\\end{align}\n",
    "$$"
   ]
  },
  {
   "cell_type": "markdown",
   "metadata": {},
   "source": [
    "The optimal strategy is given by:\n",
    "$$\n",
    "\\begin{align}\n",
    "v_t^\\star =& \\frac{\\cC_x}{2\\eta} = \\frac{2a x^\\star_t + b}{2\\eta}\\\\\n",
    "=& \\frac{2\\frac{\\eta}{T-t} x^\\star_t + \\frac{\\lambda \\sigma}{2}\\frac{t^2}{T-t} - \\lambda \\sigma T\\frac{t}{T-t}}{2\\eta}\\\\\n",
    "=& \\frac{x^\\star_t}{T-t} + \\frac{\\lambda \\sigma}{4\\eta}\\frac{t^2}{T-t} - \\frac{\\lambda \\sigma T}{2\\eta}\\frac{t}{T-t} \\\\\n",
    "\\implies& -\\dot{x}_t = \\frac{x^\\star_t}{T-t} + \\frac{\\lambda \\sigma}{4\\eta}\\frac{t^2}{T-t} - \\frac{\\lambda \\sigma T}{2\\eta}\\frac{t}{T-t}\\\\  \n",
    "=& -\\dot{x}_t = \\frac{x^\\star_t}{T-t} + \\frac{A}{2}\\frac{t^2}{T-t} - A T\\frac{t}{T-t} & \\left(A=\\frac{\\lambda \\sigma}{2 \\eta} \\right)\\\\  \n",
    "\\end{align}\n",
    "$$\n",
    "\n",
    "The solution to this ODE is: \n",
    "$$\n",
    "\\begin{align}\n",
    "x^\\star_t = \\frac{A}{2}t^2 + \\frac{AT}{2}(T-t)\\\\\n",
    "\\end{align}\n",
    "$$\n",
    "\n",
    "Resolving for the optimal time $T^\\star$:\n",
    "$$\n",
    "\\begin{align}\n",
    "x^\\star_t =& \\frac{A}{2}t^2 - \\frac{AT}{2}t + \\frac{AT^2}{2}\\\\\n",
    "=& \\frac{A}{2}t^2 - \\frac{A \\sqrt{\\frac{2X}{A}}}{2}t + \\frac{A \\frac{2X}{A}}{2}\\\\\n",
    "=& \\frac{A}{2}t^2 - \\frac{\\sqrt{2AX}}{2}t + X\\\\\n",
    "=& X \\left(\\frac{A}{2X}t^2 - \\sqrt{\\frac{A}{2X}}t + 1\\right)\\\\\n",
    "=& X \\left(\\frac{t^2}{(T^\\star)^2} - \\frac{t}{T^\\star} + 1\\right)\\\\\n",
    "\\end{align}\n",
    "$$\n",
    "\n",
    "*Here I am missing a factor of two for the $\\frac{t}{T}$ term...assuming the optimal strategy is as proposed we have that the cost adjusted function is*:\n",
    "\n",
    "\n",
    "$$\n",
    "\\begin{align}\n",
    "\\cC =& \\eta \\int_t^T \\dot{x_t}^2 dt +  \\lambda \\sigma \\int_t^T x_t dt \\\\\n",
    "=& \\eta \\int_t^T 4X^2\\left(1-\\frac{t}{T}\\right)^2 dt +  \\lambda \\sigma \\int_t^T X \\left(1-\\frac{t}{T}\\right)^2 dt\\\\\n",
    "=& 4X^2\\eta \\int_t^T \\left(1-\\frac{t}{T}\\right)^2 dt +  \\lambda \\sigma X \\int_t^T \\left(1-\\frac{t}{T}\\right)^2 dt\\\\\n",
    "=& \\left( 4X^2\\eta +  \\lambda \\sigma X \\right) \\frac{(T-t)^3}{3T^2}\\\\\n",
    "\\end{align}\n",
    "$$"
   ]
  },
  {
   "cell_type": "markdown",
   "metadata": {},
   "source": [
    "<font color=red>COMMENT: -2pts $\\mathcal{C}$ is not as expected, should be in the form, shown here without writing the explicit solution and using $\\langle \\rangle$ instead of coefficients functions of $\\eta, \\sigma, \\lambda$:\n",
    "\n",
    "$$ \\langle A \\rangle \\, x^2 \\frac{1}{(T-t)} + \\frac{1}{2} \\langle B \\rangle \\, (T-t) \\, x - \\frac{1}{48} \\langle C \\rangle \\, (T-t)^3\n",
    "$$</font> \n",
    "\n"
   ]
  },
  {
   "cell_type": "markdown",
   "metadata": {},
   "source": [
    "## ABM and GBM"
   ]
  },
  {
   "cell_type": "markdown",
   "metadata": {},
   "source": [
    "### Set up R environment"
   ]
  },
  {
   "cell_type": "code",
   "execution_count": 1,
   "metadata": {
    "collapsed": false
   },
   "outputs": [
    {
     "name": "stderr",
     "output_type": "stream",
     "text": [
      "Loading required package: xts\n",
      "Loading required package: zoo\n",
      "\n",
      "Attaching package: ‘zoo’\n",
      "\n",
      "The following objects are masked from ‘package:base’:\n",
      "\n",
      "    as.Date, as.Date.numeric\n",
      "\n"
     ]
    }
   ],
   "source": [
    "library(highfrequency)\n",
    "#download.file(url=\"http://mfe.baruch.cuny.edu/wp-content/uploads/2015/03/MSFT130311.rData_.zip\", destfile=\"MSFT130311.zip\")\n",
    "#unzip(zipfile=\"MSFT130311.zip\")\n",
    "load(\"MSFT130311.rData\")"
   ]
  },
  {
   "cell_type": "markdown",
   "metadata": {},
   "source": [
    "### 2. (8 points)\n",
    "\n",
    "Recall from the lecture slides that with time-averaged VaR as the risk penalty, and when the liquidation time $T$ is chosen to be the characteristic time, the optimal trading rate under ABM becomes\n",
    "\n",
    "$$\n",
    "v^A(t)= \\frac{x_t}{T-t}\\,+\\frac{X}{T}\\,\\left(1-\\frac t T\\right)\n",
    "$$\n",
    "\n",
    "and the optimal trading rate under GBM becomes\n",
    "\n",
    "$$\n",
    "v^G(t)= \\frac{x_t}{T-t}\\,+\\frac{X}{T}\\,\\frac{S_t}{S_0}\\,\\left(1-\\frac t T\\right).\n",
    "$$\n",
    "\n",
    "(a) The *msft.bats* dataset from *MSFT130311.rData* contains all trades on the BATS exchange on 11-Mar-2013.  One trading days has 390 minutes.  Sample the  *msft.bats* dataset evenly, roughly every minute of volume time.  Superimpose plots of the optimal strategy under ABM and GBM assuming liquidation takes place over one trading day.\n"
   ]
  },
  {
   "cell_type": "code",
   "execution_count": 2,
   "metadata": {
    "collapsed": false
   },
   "outputs": [
    {
     "data": {
      "image/png": "[encoded data removed]",
      "text/plain": [
       "Plot with title “Time-averaged VAR - ABM vs. GBM”"
      ]
     },
     "metadata": {},
     "output_type": "display_data"
    }
   ],
   "source": [
    "tT <- 390\n",
    "t <- 1:tT\n",
    "\n",
    "#total volume\n",
    "total_vol <- sum(abs(msft130311.bats$signed.shares)) \n",
    "#cumulative sum of volume per trade\n",
    "cumulative_vol <- cumsum(abs(msft130311.bats$signed.shares)) \n",
    "msft130311.bats <- cbind(msft130311.bats, cumulative_vol) \n",
    "#one minute of volume time\n",
    "minute_vol <- round(total_vol/tT) \n",
    "S_0 <- msft130311.bats$trade.price[1] \n",
    "\n",
    "#selects the value in the cumulative sum column that is the closest to each minute step\n",
    "#in volume time   \n",
    "vol_indices <- sapply(1:tT, function(t){ \n",
    "    max(cumulative_vol[cumulative_vol <= t*minute_vol & cumulative_vol > (t-1)*minute_vol]) })\n",
    "\n",
    "#assuming liquidation, position is decreasing\n",
    "x_in <- (total_vol - vol_indices)\n",
    "abm <- x_in/(tT-t)+(total_vol/tT)*(1-t/tT)\n",
    "\n",
    "options(repr.plot.width=8)\n",
    "plot(abm, type=\"l\", col = rgb(red = 1, green = 0, blue = 0, alpha = 0.5), lwd=5,  \n",
    "     xlab='Time', ylab='Trading rate', \n",
    "     main='Time-averaged VAR - ABM vs. GBM')\n",
    "\n",
    "#prices for last trade in each minute in volume time\n",
    "filtered_prices <- msft130311.bats$trade.price[msft130311.bats$cumulative_vol %in% vol_indices]\n",
    "gbm <- x_in/(tT-t)+(total_vol/tT)*(filtered_prices/S_0)*(1-t/tT)\n",
    "lines(gbm, col='blue',lwd=3)\n",
    "legend(\"topright\", inset=0.02, bty = \"n\", legend=c('ABM','GBM'), \n",
    "       col=c(\"red\",\"blue\"), lwd=c(5,3))"
   ]
  },
  {
   "cell_type": "markdown",
   "metadata": {},
   "source": [
    "(b) Denote the corresponding position sizes by $x^A(t)$ and $x^G(t)$ respectively.  What is the maximum deviation of the two position sizes as a percentage of the initial position $X$?  How significant is this deviation?\n",
    "\n",
    "-------\n",
    "The maximum deviation is not significant, it is only about 0.0018% of the initial position. "
   ]
  },
  {
   "cell_type": "code",
   "execution_count": 3,
   "metadata": {
    "collapsed": false
   },
   "outputs": [
    {
     "name": "stdout",
     "output_type": "stream",
     "text": [
      "[1] \"Maximum difference: 65.8046736976321\"\n",
      "[1] \"As a percentage of the initial position: 0.00183066173158374%\"\n"
     ]
    }
   ],
   "source": [
    "diff <- abm-gbm\n",
    "max_diff <- max(abs(diff[!is.na(diff)]))\n",
    "print(paste0(\"Maximum difference: \", max_diff))\n",
    "as_pct <- (max_diff/total_vol)*100\n",
    "print(paste0(\"As a percentage of the initial position: \", as_pct, \"%\"))"
   ]
  },
  {
   "cell_type": "markdown",
   "metadata": {},
   "source": [
    "## Kratz and Schöneborn with time-averaged VaR risk charge"
   ]
  },
  {
   "cell_type": "markdown",
   "metadata": {},
   "source": [
    "### 3. (16 points)\n",
    "\n",
    "(a) Repeat the computation of the optimal strategy from the lecture slides with time-averaged VaR\n",
    "\n",
    "$$\n",
    "\\lambda\\,\\sigma\\,\\int_0^T\\,x_t\\,dt\n",
    "$$\n",
    "\n",
    "as the risk term (rather than the quadratic variation $\\lambda\\,\\sigma^2\\,\\int_0^T\\,x_t^2\\,dt$).  Show that the optimal position\n",
    "\n",
    "$$\n",
    "x^\\star(t)=\\left(X-\\frac{A\\, T}{\\theta }\\right)\\,\\frac{1-e^{-\\theta\\,(T-t)} }{1-e^{-\\theta\\,T }}+\\frac{A }{\\theta }\\,(T-t)\n",
    "$$\n",
    "and deduce the optimal trading rate $v^\\star(t)$.\n",
    "\n",
    "\n"
   ]
  },
  {
   "cell_type": "markdown",
   "metadata": {},
   "source": [
    "-----\n",
    "The cost function is \n",
    "$$\n",
    "\\cC(t,x) = \\eta \\int_0^T \\dot{x}^2_t dt + \\lambda \\sigma \\int_0^T x_t dt\n",
    "$$\n",
    "\n",
    "The corresponding HJB equation is\n",
    "$$\n",
    "\\begin{align}\n",
    "&\\cC_t + \\lambda \\sigma x + \\min_{v, y} \\{ -v\\cC_x + \\eta v^2 + \\theta(\\cC(t,x-y)-\\cC(t,x))) \\} = 0\\\\   \n",
    "&\\text{with boundary conditions:}\\\\\n",
    "&\\cC(t,0) = 0\\\\\n",
    "&\\lim_{t\\uparrow T}\\cC(t,x) = \\begin{cases}0&\\text{if $x=0$,}\\\\\n",
    "+\\infty&\\text{if $x\\neq0$.}\\end{cases}\n",
    "\\end{align}\n",
    "$$\n"
   ]
  },
  {
   "cell_type": "markdown",
   "metadata": {},
   "source": [
    "The optimal strategy occurs when $y^\\star = x$ and\n",
    "$$\n",
    "\\begin{align}\n",
    "&v^\\star = \\frac{\\cC_x}{2\\eta}\\\\\n",
    "\\implies& \\cC_t + \\lambda \\sigma x - \\frac{\\cC_x^2}{4\\eta} - \\theta \\cC = 0\n",
    "\\end{align}\n",
    "$$\n",
    "Use the ansatz $C(t,x)=\\eta a x^2 + \\eta b x + \\eta c$ and replace into the HJB equation:\n",
    "$$\n",
    "\\left(\\eta \\dot{a} - \\eta a^2 - \\eta \\theta a\\right) x^2 + \\left( \\eta \\dot{b} + \\lambda \\sigma - \\eta a b - \\eta \\theta b  \\right) x + \\left( \\eta \\dot{c} - \\frac{\\eta}{4}b^2 - \\eta \\theta c\\right) = 0\\\\ \n",
    "$$\n",
    "\n",
    "Find $a$ and $b$ by solving the system of equations:\n",
    "\n",
    "$$\n",
    "\\begin{cases}\n",
    "\\dot{a} - a^2 - \\theta a = 0\\\\\n",
    "\\dot{b} + \\frac{\\lambda \\sigma}{\\eta} -  a b -  \\theta b = 0\\\\\n",
    "\\dot{c} - \\frac{b^2}{4} - \\theta c = 0\\\\\n",
    "\\end{cases}\n",
    "$$\n",
    "\n",
    "$$\n",
    "a(t) = -\\frac{\\theta}{1-e^{-\\theta (T-t)}} = -\\frac{\\theta}{e^{\\theta (T-t)}-1} - \\theta\n",
    "$$\n",
    "\n",
    "$$\n",
    "\\begin{align}\n",
    "&\\dot{b} + \\frac{\\lambda \\sigma}{\\eta} -  a b -  \\theta b = 0\\\\\n",
    "\\implies& \\dot{b} + \\frac{\\lambda \\sigma}{\\eta} +  \\frac{\\theta}{e^{\\theta (T-t)}-1}b + \\theta b - \\theta b = 0\\\\\n",
    "\\implies& \\dot{b} + \\frac{\\lambda \\sigma}{\\eta} +  \\frac{\\theta}{e^{\\theta (T-t)}-1}b =0\\\\\n",
    "\\implies& b(t) = \\frac{\\lambda \\sigma}{\\eta} \\left( \\frac{t}{e^{-\\theta (T-t)}-1} \\right) - \\frac{\\lambda \\sigma}{\\theta \\eta}\\left( \\frac{1}{1-e^{\\theta (T-t)}} \\right)\\\\  \n",
    "\\end{align}\n",
    "$$\n",
    "\n",
    "The optimal strategy is given by:\n",
    "$$\n",
    "\\begin{align}\n",
    "v^\\star =& \\frac{C_x}{2\\eta} = a x + \\frac{b}{2}\\\\  \n",
    "=& -\\frac{\\theta}{1-e^{-\\theta (T-t)}}  x + \\frac{\\lambda \\sigma}{2\\eta} \\left( \\frac{t}{e^{-\\theta (T-t)}-1} \\right) - \\frac{\\lambda \\sigma}{\\theta 2\\eta}\\left( \\frac{1}{1-e^{\\theta (T-t)}} \\right)\\\\\n",
    "=& -\\frac{\\theta}{1-e^{-\\theta (T-t)}}  x + A \\left( \\frac{t}{e^{-\\theta (T-t)}-1} \\right) - \\frac{A}{\\theta}\\left( \\frac{1}{1-e^{\\theta (T-t)}} \\right)\\\\\n",
    "\\implies& -\\dot{x} = \\frac{-\\theta x + At }{1-e^{-\\theta (T-t)}}  - \\frac{A}{\\theta}\\left( \\frac{1}{1-e^{\\theta (T-t)}} \\right)\\\\\n",
    "\\implies& -\\dot{x} = (-\\theta x + At)\\frac{1-e^{\\theta (T-t)}}{1-e^{-\\theta (T-t)}}  - \\frac{A}{\\theta}\\\\\n",
    "\\implies& x^\\star(t)=\\left(X-\\frac{A\\, T}{\\theta }\\right)\\,\\frac{1-e^{-\\theta\\,(T-t)} }{1-e^{-\\theta\\,T }}+\\frac{A }{\\theta }\\,(T-t)\n",
    "\\end{align}\n",
    "$$\n"
   ]
  },
  {
   "cell_type": "markdown",
   "metadata": {},
   "source": [
    "(b) By Taylor-expanding the solution around $\\theta=0$, show that we retrieve the solution derived in the slides with no dark pool\n",
    "\n",
    "$$\n",
    "x^\\star(t)=\\left(X-\\frac{A \\, T}{2}\\,t\\right)\\,\\left(1-\\frac{t}{T}\\right) .\n",
    "$$\n",
    "\n",
    "in the limit $\\theta \\to 0$."
   ]
  },
  {
   "cell_type": "markdown",
   "metadata": {},
   "source": [
    "Starting from \n",
    "\n",
    "$$\n",
    "x^\\star(t)=\\left(X-\\frac{A\\, T}{\\theta }\\right)\\,\\frac{1-e^{-\\theta\\,(T-t)} }{1-e^{-\\theta\\,T }}+\\frac{A }{\\theta }\\,(T-t)\n",
    "$$\n",
    "\n",
    "The Taylor series at $\\theta = 0$ is\n",
    "$$\n",
    "\\begin{align}\n",
    "x^\\star(t) =& \\sum_{n=0}^{\\infty} \\frac{(x^\\star)^{n}(0)}{n!}x^n\\\\ \n",
    "\\approx& x^\\star(0) + x'^\\star(0)x + \\frac{x''^\\star(0)}{2!}x^2 + \\cdots\\\\\n",
    "=& \\frac{(t-T) (A t T-2 x)}{2 T}+\\theta \\frac{ t (t-T) (A T (2 t-T)-6 x)}{12 T}+\\theta^2 \\frac{ t (t-T) (A t T (t-T)+2 x (T-2 t))}{24 T}+O\\left(\\theta^3\\right)\\\\\n",
    "\\end{align}\n",
    "$$\n",
    "\n",
    "As $\\theta \\to 0$ and reorganizing terms:\n",
    "$$\n",
    "\\begin{align}\n",
    "x^\\star(t) =&\\frac{(t-T) (A t T-2 x)}{2 T}\\\\\n",
    "=& \\left( \\frac{X}{T} - \\frac{A}{2}t\\right)(T-t) \\\\\n",
    "=& \\left( \\frac{X}{T} - \\frac{A}{2}t\\right)(T-t) \\frac{T}{T} \\\\\n",
    "=& \\left( X - \\frac{AT}{2}t\\right)\\left(1-\\frac{t}{T}\\right)\\\\\n",
    "\\end{align}\n",
    "$$"
   ]
  }
 ],
 "metadata": {
  "celltoolbar": "Slideshow",
  "kernelspec": {
   "display_name": "R",
   "language": "R",
   "name": "ir"
  },
  "language_info": {
   "codemirror_mode": "r",
   "file_extension": ".r",
   "mimetype": "text/x-r-source",
   "name": "R",
   "pygments_lexer": "r",
   "version": "3.5.1"
  }
 },
 "nbformat": 4,
 "nbformat_minor": 2
}

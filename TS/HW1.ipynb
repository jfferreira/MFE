{
 "cells": [
  {
   "cell_type": "markdown",
   "metadata": {
    "hideCode": false,
    "hidePrompt": false
   },
   "source": [
    "### Time Series Analysis - Assignment 1 ###\n",
    "### Jose Ferreira ###"
   ]
  },
  {
   "cell_type": "markdown",
   "metadata": {
    "hideCode": false,
    "hidePrompt": false
   },
   "source": [
    "**1. Is the following AR(2) process:**\n",
    "$$\n",
    "X_{t} = 1.92 - 1.1X_{t-1} + 0.18X_{t-2} + \\epsilon_{t}, \\ \\epsilon_{t} \\sim N(0,1) \\\\\n",
    "$$\n",
    "**covariance stationary? If so, calculate its mean and all autocovariances.**"
   ]
  },
  {
   "cell_type": "markdown",
   "metadata": {
    "hideCode": false,
    "hidePrompt": false
   },
   "source": [
    "The process is covariance stationary if all the roots of the characteristic equation are outside of the unit circle i.e. their absolute value is strictly larger than 1."
   ]
  },
  {
   "cell_type": "markdown",
   "metadata": {
    "hideCode": false,
    "hidePrompt": false
   },
   "source": [
    "Characteristic equation: $ 1 + 1.1z - 0.18z^2$ "
   ]
  },
  {
   "cell_type": "markdown",
   "metadata": {
    "hideCode": false,
    "hidePrompt": false
   },
   "source": [
    "Roots: $z_1=\\frac{55 + \\sqrt{4825}}{18}; z_2 = \\frac{55 - \\sqrt{4825}}{18}$"
   ]
  },
  {
   "cell_type": "markdown",
   "metadata": {
    "hideCode": false,
    "hidePrompt": false
   },
   "source": [
    "$\n",
    "\\implies \\lvert z_1 \\rvert \\approx 6.91; \\lvert z_2 \\rvert \\approx 0.8\n",
    "$\n",
    "\n",
    "$\n",
    "\\implies \\text{The process is not covariance stationary}\n",
    "$"
   ]
  },
  {
   "cell_type": "markdown",
   "metadata": {
    "hideCode": false,
    "hidePrompt": false
   },
   "source": [
    "To convince us further this in fact the case, let's try to simulate the process. The series grows without bound and indeed they intuitively look non-stationary (variance across time is not preserved, the series is not homoscedastic)."
   ]
  },
  {
   "cell_type": "code",
   "execution_count": 2,
   "metadata": {
    "hideCode": false,
    "hideOutput": false,
    "hidePrompt": false,
    "scrolled": true
   },
   "outputs": [
    {
     "data": {
      "image/png": "[encoded data removed]",
      "text/plain": [
       "<matplotlib.figure.Figure at 0x1f4c1276eb8>"
      ]
     },
     "metadata": {},
     "output_type": "display_data"
    }
   ],
   "source": [
    "%matplotlib inline\n",
    "\n",
    "import numpy as np \n",
    "import matplotlib.pyplot as plt \n",
    "from statsmodels.tsa.arima_model import ARMA\n",
    "\n",
    "alpha=1.92 \n",
    "beta1=-1.1 \n",
    "beta2=0.18\n",
    "sigma=0.001\n",
    "#Simulate AR(2) \n",
    "T=100\n",
    "x0=alpha/(1-beta1-beta2) \n",
    "x=np.zeros(T+1) \n",
    "x[0]=x0\n",
    "x[1]=x0\n",
    "eps=np.random.normal(0.0,sigma,T) \n",
    "for i in range(2,T+1): \n",
    "    x[i]=alpha+beta1*x[i-1]+beta2*x[i-2]+eps[i-1]\n",
    "plt.figure()\n",
    "plt.plot(x, label='Xt')\n",
    "plt.title('AR(2) simulation')\n",
    "plt.xlabel('Time')\n",
    "plt.ylabel('Xt')\n",
    "plt.legend()\n",
    "plt.show()"
   ]
  },
  {
   "cell_type": "markdown",
   "metadata": {
    "hideCode": false,
    "hidePrompt": false
   },
   "source": [
    "**2. Carry out a detailed discussion of the conditions on** $\\beta_{1}$ **and** $\\beta_{2}$ **under which the AR(2) time series**\n",
    "$$ X_t = \\alpha +\\beta_1X_{t-1}+\\beta_2X_{t-2} + \\epsilon _t, \\ \\epsilon _t \\sim N(0,\\sigma^2) $$\n",
    "**is covariance stationary**"
   ]
  },
  {
   "cell_type": "markdown",
   "metadata": {
    "hideCode": false,
    "hidePrompt": false
   },
   "source": [
    "An AR(2) process is specified by:\n",
    "$$\n",
    "\\begin{equation}\n",
    "    x_t = \\alpha + \\beta_1X_{t-1} + \\beta_2X_{t-2} + \\epsilon_t \\qquad\\qquad  \\text{(1)} \\\\\n",
    "\\end{equation}\n",
    "$$\n",
    "where $\\alpha$, $\\beta_1$ and $\\beta_2 \\in \\mathbf{R}$ and $\\epsilon_t \\sim N(0,\\sigma^2)$"
   ]
  },
  {
   "cell_type": "markdown",
   "metadata": {},
   "source": [
    "We know that the roots of the inverse characteristic equation must lie inside the unit circle for the series to be stationary and, as direct consequence: $\\lvert \\beta_2 \\rvert < 1$.\n",
    "\n",
    "Inverse characteristic equation: $\\lambda^2 - \\beta_1\\lambda - \\beta_2 = 0$\n",
    "\n",
    "Roots: $\\lvert \\lambda_{1,2} \\rvert = \\left|{\\frac{\\beta_1 \\pm \\sqrt{\\beta_1 + 4\\beta_2}}{2}}\\right| < 1$\n",
    "\n",
    "$\\implies \\lvert \\lambda_1\\lambda_2 \\rvert = \\lvert \\beta_2 \\rvert < 1 \\qquad \\qquad \\text{(2)}$ "
   ]
  },
  {
   "cell_type": "markdown",
   "metadata": {},
   "source": [
    "Taking expectations on both sides of (1) and considering we need to have a finite mean for stationarity, we obtain:\n",
    "\n",
    "$\n",
    "\\mu =  \\alpha + \\beta_1\\mu + \\beta_2\\mu\n",
    "$\n",
    "\n",
    "$\n",
    "\\implies  \\mu = \\frac{\\alpha}{1-\\beta_1-\\beta_2}\n",
    "$\n",
    "\n",
    "$\n",
    "\\implies  1-\\beta_1-\\beta_2 \\ne 0\n",
    "$\n",
    "\n",
    "$\n",
    "\\implies  \\beta_1+\\beta_2 \\ne 1 \\qquad\\qquad  \\text{(3)}\n",
    "$"
   ]
  },
  {
   "cell_type": "markdown",
   "metadata": {},
   "source": [
    "Additional conditions for $\\beta_1$ and $\\beta_2$ can be determined using the Yule-Walker equations:\n",
    "\n",
    "$$\n",
    "\\begin{align}\n",
    "\\Gamma_0 = \\beta_1\\Gamma_1 + \\beta_2\\Gamma_2 + \\sigma^2 \\qquad \\text{(4)}\\\\\n",
    "\\Gamma_1 = \\beta_1\\Gamma_0 + \\beta_2\\Gamma_1 \\qquad \\qquad \\text{(5)}\\\\\n",
    "\\Gamma_2 = \\beta_1\\Gamma_1 + \\beta_2\\Gamma_0 \\qquad \\qquad \\text{(6)}\\\\\n",
    "\\end{align}\n",
    "$$\n",
    "\n",
    "We can derive an expression for $\\Gamma_0$, the variance of $X_t$, in terms of the beta coefficients by algebraic manipulation (equation (40) in the lecture notes).\n",
    "\n",
    "$$\n",
    "\\begin{equation}\n",
    "    \\Gamma_0 = \\frac{(1-\\beta_2)\\sigma^2}{(1+\\beta_2)(1-\\beta_1-\\beta_2)(1+\\beta_1-\\beta_2)} \\qquad\\qquad \\text{(7)}\n",
    "\\end{equation}\n",
    "$$\n",
    "\n",
    "Since $\\Gamma_0$ represents the variance of $X_t$, the expression in (7) has to be positive."
   ]
  },
  {
   "cell_type": "markdown",
   "metadata": {},
   "source": [
    "We know $(1-\\beta_2)$ is greater than zero since $\\lvert \\beta_2 \\rvert < 1$. \n",
    "\n",
    "Therefore, the denominator $(1+\\beta_2)(1-\\beta_1-\\beta_2)(1+\\beta_1-\\beta_2)$ needs to be greater than zero.\n",
    "\n",
    "The factor $(1+\\beta_2)$ is greater than zero, we need $(1-\\beta_1-\\beta_2)(1+\\beta_1-\\beta_2)$ to be also greater than zero.\n",
    "\n",
    "The only way for this to happen is for both factors to be greater than zero, it is not possible to have the case of both being negative since:\n",
    "\n",
    "$(1-\\beta_1-\\beta_2) < 0$ and $(1+\\beta_1-\\beta_2) < 0$\n",
    "\n",
    "$\\implies \\beta_1>(1-\\beta_2)$ and $\\beta_1>-(1-\\beta_2)$.\n",
    "\n",
    "So we have for both positive factors:\n",
    "\n",
    "$(1-\\beta_1-\\beta_2) > 0$ and $(1+\\beta_1-\\beta_2) > 0$\n",
    "\n",
    "$\\implies \\beta_1+\\beta_2 < 1$ and $\\beta_2 - \\beta_1 < 1 \\qquad \\qquad \\text{(7)}$ "
   ]
  },
  {
   "attachments": {
    "image.png": {
     "image/png": "[encoded data removed]"
    }
   },
   "cell_type": "markdown",
   "metadata": {},
   "source": [
    "To sum up, we have three conditions for stationarity of the AR(2) process:\n",
    "* $\\lvert \\beta_2 \\rvert < 1$\n",
    "* $\\beta_1 + \\beta_2 < 1$\n",
    "* $\\beta_2 - \\beta_1 < 1$\n",
    "\n",
    "The inequalities define a triangular area where the series AR(2) will be stationary:\n",
    "\n",
    "![image.png](attachment:image.png)"
   ]
  },
  {
   "cell_type": "markdown",
   "metadata": {},
   "source": [
    "We can now prove easily that the series in the problem 1 is not stationary since $\\beta_2-\\beta_1 = 0.18+1.1 > 1$"
   ]
  },
  {
   "cell_type": "markdown",
   "metadata": {
    "hideCode": false,
    "hidePrompt": false
   },
   "source": [
    "**3. Consider the time series of daily returns on two ETFs tracking broad market indices: SPY and IWV over the last 10 years, and let** $X_t$ **denote the difference of these returns. Try to model** $X_t$ **as an AR(p) time series model, and discuss the results.**"
   ]
  },
  {
   "cell_type": "markdown",
   "metadata": {
    "hideCode": false,
    "hidePrompt": false
   },
   "source": [
    "We retrieve daily adjusted close data for the two ETFs from Yahoo! Finance, calculate daily returns and set our series to be the difference SPY - IWV. "
   ]
  },
  {
   "cell_type": "code",
   "execution_count": 3,
   "metadata": {
    "hideCode": false,
    "hidePrompt": false
   },
   "outputs": [
    {
     "data": {
      "image/png": "[encoded data removed]",
      "text/plain": [
       "<matplotlib.figure.Figure at 0x1f4c1213e10>"
      ]
     },
     "metadata": {},
     "output_type": "display_data"
    }
   ],
   "source": [
    "import numpy as np\n",
    "import matplotlib.pyplot as plt\n",
    "import pandas as pd\n",
    "%matplotlib inline  \n",
    "\n",
    "\n",
    "spy = pd.read_csv('SPY.csv', \n",
    "                  usecols=['Date','Adj Close'],\n",
    "                  index_col=0,\n",
    "                  parse_dates=True,\n",
    "                  infer_datetime_format=True\n",
    "                 )\n",
    "iwv = pd.read_csv('IWV.csv', \n",
    "                  usecols=['Date','Adj Close'],\n",
    "                  index_col=0,\n",
    "                  parse_dates=True,\n",
    "                  infer_datetime_format=True\n",
    "                 )\n",
    "plt.figure()\n",
    "plt.plot(spy,label='SPY')\n",
    "plt.plot(iwv,label='IWV')\n",
    "plt.title('SPY/IWV prices')\n",
    "plt.xlabel('Time')\n",
    "plt.ylabel('Price')\n",
    "plt.legend()\n",
    "plt.show()"
   ]
  },
  {
   "cell_type": "code",
   "execution_count": 4,
   "metadata": {
    "hideCode": false,
    "hidePrompt": false
   },
   "outputs": [
    {
     "data": {
      "image/png": "[encoded data removed]",
      "text/plain": [
       "<matplotlib.figure.Figure at 0x1f4c2a48be0>"
      ]
     },
     "metadata": {},
     "output_type": "display_data"
    }
   ],
   "source": [
    "spy.loc[:, 'Returns'] = spy['Adj Close'].pct_change(1)\n",
    "iwv.loc[:, 'Returns'] = iwv['Adj Close'].pct_change(1)\n",
    "\n",
    "xt = (spy['Returns'] - iwv['Returns']).dropna()\n",
    "plt.figure()\n",
    "plt.plot(xt,label='Xt')\n",
    "plt.title('Difference of returns (SPY-IWV)')\n",
    "plt.xlabel('Time')\n",
    "plt.ylabel('Difference')\n",
    "plt.legend()\n",
    "plt.show()"
   ]
  },
  {
   "cell_type": "markdown",
   "metadata": {},
   "source": [
    "First, we need to confirm the resulting series is covariance stationary. From the plot, it certainly looks more or less so with the exception of the presence of a larger than average variance around 2008-2009.\n",
    "We can look at the definition of stationarity and perform simple tests over the mean, variance and correlation of the series as an initial diagnostic tool.\n",
    "We know that, for a series to be stationary:\n",
    "\n",
    "* the expected value for any t is a constant $\\mu$.\n",
    "* the variance does not change through time.\n",
    "* the autocovariance between two points only depends on the distance between the two points. \n",
    "\n",
    "We can split the data into several sections and calculate the mean and variance of each group to compare."
   ]
  },
  {
   "cell_type": "code",
   "execution_count": 5,
   "metadata": {},
   "outputs": [
    {
     "name": "stdout",
     "output_type": "stream",
     "text": [
      "mean1=-0.000004, mean2=-0.000007, mean3=0.000011\n",
      "variance1=0.000010, variance2=0.000001, variance3=0.000001\n"
     ]
    }
   ],
   "source": [
    "size = len(xt)\n",
    "x1, x2, x3 = xt[0:size//3], xt[(size//3)+1:(2*size)//3], xt[((2*size)//3)+1:]\n",
    "mean1, mean2, mean3 = x1.mean(), x2.mean(), x3.mean()\n",
    "var1, var2, var3 = x1.var(), x2.var(), x3.var()\n",
    "print('mean1=%.6f, mean2=%.6f, mean3=%.6f' % (mean1, mean2, mean3))\n",
    "print('variance1=%.6f, variance2=%.6f, variance3=%.6f' % (var1, var2, var3))"
   ]
  },
  {
   "cell_type": "markdown",
   "metadata": {},
   "source": [
    "It seems that, in regards to the first and second conditions, this series can be stationary.\n",
    "\n",
    "For the third condition, we can look at the auto-correlation and partial auto-correlation plots. The auto-correlation (ACF) and partial auto-correlation function (PACF) plots hint that the series might not be stationary. There are significant changes in the values of correlation even beyond lag 20."
   ]
  },
  {
   "cell_type": "code",
   "execution_count": 6,
   "metadata": {},
   "outputs": [
    {
     "data": {
      "image/png": "[encoded data removed]",
      "text/plain": [
       "<matplotlib.figure.Figure at 0x1f4c1276978>"
      ]
     },
     "metadata": {},
     "output_type": "display_data"
    },
    {
     "data": {
      "image/png": "[encoded data removed]",
      "text/plain": [
       "<matplotlib.figure.Figure at 0x1f4c1276780>"
      ]
     },
     "metadata": {},
     "output_type": "display_data"
    }
   ],
   "source": [
    "import statsmodels.graphics.tsaplots as tsaplots\n",
    "_ = tsaplots.plot_acf(xt,lags=60)\n",
    "_ = tsaplots.plot_pacf(xt,lags=60)"
   ]
  },
  {
   "cell_type": "markdown",
   "metadata": {},
   "source": [
    "Another option to check for stationarity is to perform an statistical test like the augmented Dickey-Fuller (ADF) test.\n",
    "\n",
    "The null hypothesis of the ADF test is that the time series is not stationary.\n",
    "The alternate hypothesis is that the time series is stationary.\n",
    "\n",
    "We interpret this result using the p-value from the test. A p-value below a given threshold suggests we reject the null hypothesis (stationary), otherwise a p-value above the threshold suggests we fail to reject the null hypothesis (non-stationary)."
   ]
  },
  {
   "cell_type": "code",
   "execution_count": 7,
   "metadata": {},
   "outputs": [
    {
     "name": "stdout",
     "output_type": "stream",
     "text": [
      "ADF Statistic: -10.367593\n",
      "p-value: 0.000000\n",
      "\t1%: -3.433\n",
      "\t5%: -2.863\n",
      "\t10%: -2.567\n"
     ]
    }
   ],
   "source": [
    "from statsmodels.tsa.stattools import adfuller\n",
    "\n",
    "test = adfuller(xt)\n",
    "print('ADF Statistic: %f' % test[0])\n",
    "print('p-value: %f' % test[1])\n",
    "for key, value in test[4].items():\n",
    "    print('\\t%s: %.3f' % (key, value))"
   ]
  },
  {
   "cell_type": "markdown",
   "metadata": {
    "hideCode": false,
    "hidePrompt": false
   },
   "source": [
    "According to the above results, we can clearly assume that the series is stationary and we can try to fit this data to an AR process. A way to do this is to decide on a maximum number of lags and calculate the AIC value for all of the possible models. The parameter p resulting from the model with the minimum of the AIC values is chosen.\n",
    "Having chosen the maximum number of lags to be 20, the algorithm found that including most of the parameters would improve the AIC value."
   ]
  },
  {
   "cell_type": "code",
   "execution_count": 8,
   "metadata": {
    "hideCode": false,
    "hideOutput": true,
    "hidePrompt": false
   },
   "outputs": [
    {
     "name": "stdout",
     "output_type": "stream",
     "text": [
      "| # Lags\t| AIC\t\t|\n",
      "--------------------------------\n",
      "| 1\t\t| -12.6070813635|\n",
      "| 2\t\t| -12.6349661702|\n",
      "| 3\t\t| -12.7343519485|\n",
      "| 4\t\t| -12.7343519485|\n",
      "| 5\t\t| -12.734351927|\n",
      "| 6\t\t| -12.7477722064|\n",
      "| 7\t\t| -12.7490786648|\n",
      "| 8\t\t| -12.7645257715|\n",
      "| 9\t\t| -12.7670811735|\n",
      "| 10\t\t| -12.7692238842|\n",
      "| 11\t\t| -12.7769606943|\n",
      "| 12\t\t| -12.7769606943|\n",
      "| 13\t\t| -12.7769606943|\n",
      "| 14\t\t| -12.7776649506|\n",
      "| 15\t\t| -12.7995859491|\n",
      "| 16\t\t| -12.8050444783|\n",
      "| 17\t\t| -12.8061751218|\n",
      "| 18\t\t| -12.8060778908|\n",
      "| 19\t\t| -12.8061751218|\n",
      "| 20\t\t| -12.810202373|\n"
     ]
    }
   ],
   "source": [
    "from statsmodels.tsa.arima_model import ARMA\n",
    "from statsmodels.tsa.ar_model import AR\n",
    "import statsmodels.tsa as tsa\n",
    "import warnings\n",
    "from IPython.core.display import display, HTML\n",
    "\n",
    "#estimate model parameters\n",
    "maxOrder = 20\n",
    "aic = {}\n",
    "print('| # Lags\\t| AIC\\t\\t|')\n",
    "print('--------------------------------')\n",
    "with warnings.catch_warnings():\n",
    "    warnings.filterwarnings(\"ignore\")\n",
    "    for i in range(1, maxOrder+1):\n",
    "        model=AR(xt).fit(maxlag=i,ic='aic',method='mle')\n",
    "        aic[i] = model.aic\n",
    "        print('| ' + str(i) + '\\t\\t| ' + str(model.aic) + '|')"
   ]
  },
  {
   "cell_type": "markdown",
   "metadata": {},
   "source": [
    "Again, the auto-correlation (ACF) and partial auto-correlation function (PACF) plots are an useful tool to understand what might be happening. The PACF will display the partial correlation which each of the lagged values and one would expect that, for an ideal AR(p) process, the significance of correlation values beyond p to disappear.\n",
    "\n",
    "This is not the case when the graph is generated for the time series in study. We see there is an important amount of correlation with the previous 3 days but also that the importance of the lag values does not really fade when increasing the lag amount. We can observe the same in the ACF plot, there are significant values of correlation with lag values like 4, 8 and 15 among others which might be an indication of the presence of weekly seasonality in the series."
   ]
  },
  {
   "cell_type": "markdown",
   "metadata": {},
   "source": [
    "There are indications that an AR model would not fit the data very well, for now, and as a rough approximation, let's try to fit the data to an AR(3) model since the partial autocorrelation graph has highlighted the fact that there is strong correlation with these lagged values. The parameters found using maximum likelihood function optimization are:"
   ]
  },
  {
   "cell_type": "code",
   "execution_count": 9,
   "metadata": {
    "scrolled": true
   },
   "outputs": [
    {
     "name": "stdout",
     "output_type": "stream",
     "text": [
      "const         0.000002\n",
      "L1.Returns   -0.453945\n",
      "L2.Returns   -0.292082\n",
      "L3.Returns   -0.308429\n",
      "dtype: float64\n"
     ]
    }
   ],
   "source": [
    "with warnings.catch_warnings():\n",
    "    warnings.filterwarnings(\"ignore\")\n",
    "    model=AR(xt).fit(maxlag=3,ic='aic',method='mle')\n",
    "print(model.params)"
   ]
  },
  {
   "cell_type": "markdown",
   "metadata": {},
   "source": [
    "Compare with the parameters obtained for an AR(20) fit. The values beyond 3 are smaller in scale  but significant (see, for example, the L8 value)."
   ]
  },
  {
   "cell_type": "code",
   "execution_count": 10,
   "metadata": {},
   "outputs": [
    {
     "name": "stdout",
     "output_type": "stream",
     "text": [
      "const          0.000003\n",
      "L1.Returns    -0.439333\n",
      "L2.Returns    -0.267566\n",
      "L3.Returns    -0.332364\n",
      "L4.Returns    -0.036363\n",
      "L5.Returns    -0.007909\n",
      "L6.Returns    -0.038302\n",
      "L7.Returns     0.094625\n",
      "L8.Returns     0.161336\n",
      "L9.Returns     0.075419\n",
      "L10.Returns   -0.009127\n",
      "L11.Returns    0.071311\n",
      "L12.Returns    0.020421\n",
      "L13.Returns   -0.039301\n",
      "L14.Returns   -0.012798\n",
      "L15.Returns    0.093706\n",
      "L16.Returns   -0.099704\n",
      "L17.Returns   -0.027461\n",
      "L18.Returns   -0.002123\n",
      "L19.Returns    0.043941\n",
      "L20.Returns    0.077196\n",
      "dtype: float64\n"
     ]
    }
   ],
   "source": [
    "with warnings.catch_warnings():\n",
    "    warnings.filterwarnings(\"ignore\")\n",
    "    model=AR(xt).fit(maxlag=20,ic='aic',method='mle')\n",
    "print(model.params)"
   ]
  },
  {
   "cell_type": "markdown",
   "metadata": {},
   "source": [
    "Let's analyze how good of a fit would be our AR(3) representation. "
   ]
  }
 ],
 "metadata": {
  "hide_code_all_hidden": false,
  "kernelspec": {
   "display_name": "Python 3",
   "language": "python",
   "name": "python3"
  },
  "language_info": {
   "codemirror_mode": {
    "name": "ipython",
    "version": 3
   },
   "file_extension": ".py",
   "mimetype": "text/x-python",
   "name": "python",
   "nbconvert_exporter": "python",
   "pygments_lexer": "ipython3",
   "version": "3.6.1"
  }
 },
 "nbformat": 4,
 "nbformat_minor": 2
}

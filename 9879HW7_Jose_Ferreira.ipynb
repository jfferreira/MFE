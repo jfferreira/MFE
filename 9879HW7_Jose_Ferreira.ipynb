{
 "cells": [
  {
   "cell_type": "markdown",
   "metadata": {},
   "source": [
    "# MTH9879 Homework 7\n",
    "## JOSE FERREIRA (R VERSION 3.5.2)\n",
    "Assigned: March 21, 2019.\n",
    "Due: April 4, 2019 by 6pm. \n",
    "\n",
    "Late homework **will not be accepted**.\n",
    "\n",
    "$$\n",
    "\\newcommand{\\supp}{\\mathrm{supp}}\n",
    "\\newcommand{\\E}{\\mathbb{E}}\n",
    "\\newcommand{\\Eof}[1]{\\mathbb{E}\\left[ #1 \\right]}\n",
    "\\def\\Cov{{ \\mbox{Cov} }}\n",
    "\\def\\Var{{ \\mbox{Var} }}\n",
    "\\newcommand{\\1}{\\mathbf{1} }\n",
    "\\newcommand{\\PP}{\\mathbb{P} }\n",
    "%\\newcommand{\\Pr}{\\mathrm{Pr} }\n",
    "\\newcommand{\\QQ}{\\mathbb{Q} }\n",
    "\\newcommand{\\RR}{\\mathbb{R} }\n",
    "\\newcommand{\\DD}{\\mathbb{D} }\n",
    "\\newcommand{\\HH}{\\mathbb{H} }\n",
    "\\newcommand{\\spn}{\\mathrm{span} }\n",
    "\\newcommand{\\cov}{\\mathrm{cov} }\n",
    "\\newcommand{\\sgn}{\\mathrm{sgn} }\n",
    "\\newcommand{\\HS}{\\mathcal{L}_{\\mathrm{HS}} }\n",
    "%\\newcommand{\\HS}{\\mathrm{HS} }\n",
    "\\newcommand{\\trace}{\\mathrm{trace} }\n",
    "\\newcommand{\\LL}{\\mathcal{L} }\n",
    "%\\newcommand{\\LL}{\\mathrm{L} }\n",
    "\\newcommand{\\s}{\\mathcal{S} }\n",
    "\\newcommand{\\ee}{\\mathcal{E} }\n",
    "\\newcommand{\\ff}{\\mathcal{F} }\n",
    "\\newcommand{\\hh}{\\mathcal{H} }\n",
    "\\newcommand{\\bb}{\\mathcal{B} }\n",
    "\\newcommand{\\dd}{\\mathcal{D} }\n",
    "\\newcommand{\\g}{\\mathcal{G} }\n",
    "\\newcommand{\\p}{\\partial}\n",
    "\\newcommand{\\half}{\\frac{1}{2} }\n",
    "\\newcommand{\\T}{\\mathcal{T} }\n",
    "\\newcommand{\\bi}{\\begin{itemize}}\n",
    "\\newcommand{\\ei}{\\end{itemize}}\n",
    "\\newcommand{\\beq}{\\begin{equation}}\n",
    "\\newcommand{\\eeq}{\\end{equation}}\n",
    "\\newcommand{\\beas}{\\begin{eqnarray*}}\n",
    "\\newcommand{\\eeas}{\\end{eqnarray*}}\n",
    "\\newcommand{\\cO}{\\mathcal{O}}\n",
    "\\newcommand{\\cF}{\\mathcal{F}}\n",
    "\\newcommand{\\cL}{\\mathcal{L}}\n",
    "\\newcommand{\\BS}{\\text{BS}}\n",
    "$$"
   ]
  },
  {
   "cell_type": "markdown",
   "metadata": {},
   "source": [
    "<font color = \"red\">Homework is to be done by each student individually.  To receive full credit, you must email a completed copy of this Jupyter notebook to Yassine Ghalane (yassine.ghalem@gmail.com), Victor Istrakov (stavka@gmail.com), and Tai-Ho Wang (tai-ho.wang@baruch.cuny.edu) by the due date and time.  All R-code must run correctly and solutions must be written up neatly in Markdown/LaTeX format.\n",
    "\n",
    "<font color=\"blue\">If you encounter problems with Markdown/LaTeX or Jupyter notebook, please contact your TAs."
   ]
  },
  {
   "cell_type": "markdown",
   "metadata": {},
   "source": [
    "### 0. (0 points) \n",
    "Read Sections 4, 5 and 6 of Bouchaud, Farmer and Lillo."
   ]
  },
  {
   "cell_type": "markdown",
   "metadata": {},
   "source": [
    "## Long memory"
   ]
  },
  {
   "cell_type": "markdown",
   "metadata": {},
   "source": [
    "### 1. (6 points)\n",
    "\n",
    "Consider the long memory process\n",
    "\n",
    "$$\n",
    "X_T=\\sum_{i=1}^T\\,\\epsilon_i\n",
    "$$\n",
    "\n",
    "with autocovariance function $\\gamma(\\tau)=\\E[\\epsilon_i\\,\\epsilon_{i-\\tau}] \\sim \\tau^{-\\alpha}$.  Show that as $\\tau \\to \\infty$,\n",
    "\n",
    "$$\n",
    "\\Var[X_{t+\\tau}-X_t] \\sim \\tau ^{2\\,H}\n",
    "$$\n",
    "\n",
    "where the Hurst exponent $H$ is given by\n",
    "\n",
    "$$\n",
    "H=1-\\frac{\\alpha}{2}.\n",
    "$$"
   ]
  },
  {
   "cell_type": "markdown",
   "metadata": {},
   "source": [
    "The proof is analog to the argument outline for Bouchaud's power law in the Lecture Notes.\n",
    "\\begin{eqnarray*}\n",
    "\\mbox{Var}[X_{t+\\tau}-X_t] &=& \\mbox{Var}\\left[\\sum_{i=1}^{t+\\tau}\\,\\epsilon_i\\,-\\sum_{i=1}^{t}\\,\\epsilon_i\\,\\right]\\\\\n",
    "&=& \\mbox{Var}\\left[\\sum_{i=t+1}^{t+\\tau}\\,\\epsilon_i\\,\\right]\\\\\n",
    "&=& \\mbox{Var}\\left[\\sum_{j=1}^{\\tau}\\,\\epsilon_j\\,\\right]\\\\\n",
    "&=& \\sum_{i=1}^{\\tau} Var(\\epsilon_j) + 2\\sum_{i \\lt j} Cov(\\epsilon_i,\\epsilon_j)\\\\\n",
    "&=& \\tau Var(\\epsilon_j) + 2\\sum_{i \\lt j} Cov(\\epsilon_i,\\epsilon_j)\\\\\n",
    "&\\approx& \\tau Var(\\epsilon_j) + \\frac{2\\,C_1}{(2-\\alpha)\\,(1-\\alpha)} \\tau^{2-\\alpha}\\\\\n",
    "&\\sim& \\tau^{2-\\alpha} \\textrm{ as } \\tau \\to \\infty\\\\\n",
    "&=& \\tau^{2H} \\text { since  } H=1-\\frac{\\alpha}{2}\\\\\n",
    "\\end{eqnarray*}"
   ]
  },
  {
   "cell_type": "markdown",
   "metadata": {},
   "source": [
    "## MSFT data from Alejandro Ca&ntilde;ete"
   ]
  },
  {
   "cell_type": "markdown",
   "metadata": {},
   "source": [
    "### Set up R environment"
   ]
  },
  {
   "cell_type": "code",
   "execution_count": 2,
   "metadata": {},
   "outputs": [
    {
     "name": "stderr",
     "output_type": "stream",
     "text": [
      "Loading required package: xts\n",
      "Loading required package: zoo\n",
      "\n",
      "Attaching package: 'zoo'\n",
      "\n",
      "The following objects are masked from 'package:base':\n",
      "\n",
      "    as.Date, as.Date.numeric\n",
      "\n"
     ]
    }
   ],
   "source": [
    "library(highfrequency)\n",
    "download.file(url=\"http://mfe.baruch.cuny.edu/wp-content/uploads/2015/03/MSFT130311.rData_.zip\", destfile=\"MSFT130311.zip\")\n",
    "unzip(zipfile=\"MSFT130311.zip\")\n",
    "load(\"MSFT130311.rData\")"
   ]
  },
  {
   "cell_type": "code",
   "execution_count": 3,
   "metadata": {},
   "outputs": [
    {
     "data": {
      "text/html": [
       "<table>\n",
       "<thead><tr><th scope=col>signed.shares</th><th scope=col>trade.price</th></tr></thead>\n",
       "<tbody>\n",
       "\t<tr><td>   -40</td><td>27.91 </td></tr>\n",
       "\t<tr><td>542309</td><td>27.91 </td></tr>\n",
       "\t<tr><td>     2</td><td>27.94 </td></tr>\n",
       "\t<tr><td>    16</td><td>27.94 </td></tr>\n",
       "\t<tr><td>    84</td><td>27.94 </td></tr>\n",
       "\t<tr><td>  -900</td><td>27.91 </td></tr>\n",
       "</tbody>\n",
       "</table>\n"
      ],
      "text/latex": [
       "\\begin{tabular}{r|ll}\n",
       " signed.shares & trade.price\\\\\n",
       "\\hline\n",
       "\t    -40 & 27.91 \\\\\n",
       "\t 542309 & 27.91 \\\\\n",
       "\t      2 & 27.94 \\\\\n",
       "\t     16 & 27.94 \\\\\n",
       "\t     84 & 27.94 \\\\\n",
       "\t   -900 & 27.91 \\\\\n",
       "\\end{tabular}\n"
      ],
      "text/markdown": [
       "\n",
       "| signed.shares | trade.price |\n",
       "|---|---|\n",
       "|    -40 | 27.91  |\n",
       "| 542309 | 27.91  |\n",
       "|      2 | 27.94  |\n",
       "|     16 | 27.94  |\n",
       "|     84 | 27.94  |\n",
       "|   -900 | 27.91  |\n",
       "\n"
      ],
      "text/plain": [
       "  signed.shares trade.price\n",
       "1    -40        27.91      \n",
       "2 542309        27.91      \n",
       "3      2        27.94      \n",
       "4     16        27.94      \n",
       "5     84        27.94      \n",
       "6   -900        27.91      "
      ]
     },
     "metadata": {},
     "output_type": "display_data"
    }
   ],
   "source": [
    "head(msft130311.inet)"
   ]
  },
  {
   "cell_type": "markdown",
   "metadata": {},
   "source": [
    "### 2. (6 points)\n",
    "\n",
    "(a) Generate the series *tradeSign* of trade signs from the *msft130311.inet* data frame.\n"
   ]
  },
  {
   "cell_type": "code",
   "execution_count": 4,
   "metadata": {},
   "outputs": [
    {
     "data": {
      "text/html": [
       "<table>\n",
       "<thead><tr><th scope=col>signed.shares</th><th scope=col>trade.price</th><th scope=col>SIGN</th></tr></thead>\n",
       "<tbody>\n",
       "\t<tr><td>   -40</td><td>27.91 </td><td>-1    </td></tr>\n",
       "\t<tr><td>542309</td><td>27.91 </td><td> 1    </td></tr>\n",
       "\t<tr><td>     2</td><td>27.94 </td><td> 1    </td></tr>\n",
       "\t<tr><td>    16</td><td>27.94 </td><td> 1    </td></tr>\n",
       "\t<tr><td>    84</td><td>27.94 </td><td> 1    </td></tr>\n",
       "\t<tr><td>  -900</td><td>27.91 </td><td>-1    </td></tr>\n",
       "</tbody>\n",
       "</table>\n"
      ],
      "text/latex": [
       "\\begin{tabular}{r|lll}\n",
       " signed.shares & trade.price & SIGN\\\\\n",
       "\\hline\n",
       "\t    -40 & 27.91  & -1    \\\\\n",
       "\t 542309 & 27.91  &  1    \\\\\n",
       "\t      2 & 27.94  &  1    \\\\\n",
       "\t     16 & 27.94  &  1    \\\\\n",
       "\t     84 & 27.94  &  1    \\\\\n",
       "\t   -900 & 27.91  & -1    \\\\\n",
       "\\end{tabular}\n"
      ],
      "text/markdown": [
       "\n",
       "| signed.shares | trade.price | SIGN |\n",
       "|---|---|---|\n",
       "|    -40 | 27.91  | -1     |\n",
       "| 542309 | 27.91  |  1     |\n",
       "|      2 | 27.94  |  1     |\n",
       "|     16 | 27.94  |  1     |\n",
       "|     84 | 27.94  |  1     |\n",
       "|   -900 | 27.91  | -1     |\n",
       "\n"
      ],
      "text/plain": [
       "  signed.shares trade.price SIGN\n",
       "1    -40        27.91       -1  \n",
       "2 542309        27.91        1  \n",
       "3      2        27.94        1  \n",
       "4     16        27.94        1  \n",
       "5     84        27.94        1  \n",
       "6   -900        27.91       -1  "
      ]
     },
     "metadata": {},
     "output_type": "display_data"
    }
   ],
   "source": [
    "signFromVolume <- function(volume)\n",
    "{\n",
    "    if (volume >= 0)\n",
    "    {\n",
    "        return(1)    \n",
    "    }\n",
    "    else\n",
    "    {\n",
    "        return(-1)\n",
    "    }\n",
    "}        \n",
    "\n",
    "tradeSign <- sapply(msft130311.inet$signed.shares, signFromVolume)\n",
    "ts <- cbind(msft130311.inet, tradeSign)\n",
    "colnames(ts) <- c(colnames(msft130311.inet), \"SIGN\")\n",
    "head(ts)"
   ]
  },
  {
   "cell_type": "markdown",
   "metadata": {},
   "source": [
    "\n",
    "(b) Fit an AR(1) model to the *tradeSign*  data to give the forecast:\n",
    "    $$\n",
    "    \\hat \\epsilon^{(1)}_t=\\phi_1\\,\\epsilon_{t-1}\n",
    "    $$"
   ]
  },
  {
   "cell_type": "code",
   "execution_count": 5,
   "metadata": {},
   "outputs": [
    {
     "data": {
      "text/html": [
       "0.82101769720225"
      ],
      "text/latex": [
       "0.82101769720225"
      ],
      "text/markdown": [
       "0.82101769720225"
      ],
      "text/plain": [
       "[1] 0.8210177"
      ]
     },
     "metadata": {},
     "output_type": "display_data"
    }
   ],
   "source": [
    "fit<-ar(tradeSign, aic = FALSE, order.max = 1)\n",
    "fit$ar"
   ]
  },
  {
   "cell_type": "markdown",
   "metadata": {},
   "source": [
    "\n",
    "(c) How does $\\phi_1$ relate to the autocorrelation coefficients of *tradeSign*?  What is the mean-squared error of this AR(1) forecast?"
   ]
  },
  {
   "cell_type": "markdown",
   "metadata": {},
   "source": [
    "The autocorrelation coefficient is practically the same as the value of the AR(1) coefficient fit when allowing an intercept in the model. \n",
    "The mean-squared error is approximately 0.32"
   ]
  },
  {
   "cell_type": "code",
   "execution_count": 6,
   "metadata": {},
   "outputs": [
    {
     "data": {
      "text/html": [
       "<ol class=list-inline>\n",
       "\t<li>1</li>\n",
       "\t<li>0.82101769720225</li>\n",
       "</ol>\n"
      ],
      "text/latex": [
       "\\begin{enumerate*}\n",
       "\\item 1\n",
       "\\item 0.82101769720225\n",
       "\\end{enumerate*}\n"
      ],
      "text/markdown": [
       "1. 1\n",
       "2. 0.82101769720225\n",
       "\n",
       "\n"
      ],
      "text/plain": [
       ", , 1\n",
       "\n",
       "          [,1]\n",
       "[1,] 1.0000000\n",
       "[2,] 0.8210177\n"
      ]
     },
     "metadata": {},
     "output_type": "display_data"
    }
   ],
   "source": [
    "autocorr <- acf(tradeSign, lag.max = 1, plot=FALSE)\n",
    "autocorr$acf[]"
   ]
  },
  {
   "cell_type": "code",
   "execution_count": 7,
   "metadata": {},
   "outputs": [
    {
     "data": {
      "text/html": [
       "0.323454914588517"
      ],
      "text/latex": [
       "0.323454914588517"
      ],
      "text/markdown": [
       "0.323454914588517"
      ],
      "text/plain": [
       "[1] 0.3234549"
      ]
     },
     "metadata": {},
     "output_type": "display_data"
    }
   ],
   "source": [
    "mean(fit$resid^2, na.rm=TRUE)"
   ]
  },
  {
   "cell_type": "markdown",
   "metadata": {},
   "source": [
    "(d) Fit an $AR(p)$ model to the *tradeSign* data, allowing R to find the best value of $p$ using the default AIC criterion.  This generates the forecast:\n",
    "    $$\n",
    "    \\hat \\epsilon^{(2)}_t=\\sum_{k=1}^p\\,\\phi_k\\,\\epsilon_{t-k}.\n",
    "    $$\n"
   ]
  },
  {
   "cell_type": "code",
   "execution_count": 8,
   "metadata": {},
   "outputs": [
    {
     "data": {
      "text/html": [
       "<ol class=list-inline>\n",
       "\t<li>0.696248619527483</li>\n",
       "\t<li>0.0375253793057898</li>\n",
       "\t<li>0.0421574641103099</li>\n",
       "\t<li>0.0185908632331247</li>\n",
       "\t<li>0.0236415019730066</li>\n",
       "\t<li>0.00480327620028102</li>\n",
       "\t<li>0.000164752454818683</li>\n",
       "\t<li>0.0301703380875287</li>\n",
       "\t<li>0.0111986375321181</li>\n",
       "\t<li>-0.00798131852091968</li>\n",
       "\t<li>0.0154288784365212</li>\n",
       "\t<li>-0.0127187224693747</li>\n",
       "\t<li>0.0236587253766743</li>\n",
       "\t<li>0.0199345298665782</li>\n",
       "</ol>\n"
      ],
      "text/latex": [
       "\\begin{enumerate*}\n",
       "\\item 0.696248619527483\n",
       "\\item 0.0375253793057898\n",
       "\\item 0.0421574641103099\n",
       "\\item 0.0185908632331247\n",
       "\\item 0.0236415019730066\n",
       "\\item 0.00480327620028102\n",
       "\\item 0.000164752454818683\n",
       "\\item 0.0301703380875287\n",
       "\\item 0.0111986375321181\n",
       "\\item -0.00798131852091968\n",
       "\\item 0.0154288784365212\n",
       "\\item -0.0127187224693747\n",
       "\\item 0.0236587253766743\n",
       "\\item 0.0199345298665782\n",
       "\\end{enumerate*}\n"
      ],
      "text/markdown": [
       "1. 0.696248619527483\n",
       "2. 0.0375253793057898\n",
       "3. 0.0421574641103099\n",
       "4. 0.0185908632331247\n",
       "5. 0.0236415019730066\n",
       "6. 0.00480327620028102\n",
       "7. 0.000164752454818683\n",
       "8. 0.0301703380875287\n",
       "9. 0.0111986375321181\n",
       "10. -0.00798131852091968\n",
       "11. 0.0154288784365212\n",
       "12. -0.0127187224693747\n",
       "13. 0.0236587253766743\n",
       "14. 0.0199345298665782\n",
       "\n",
       "\n"
      ],
      "text/plain": [
       " [1]  0.6962486195  0.0375253793  0.0421574641  0.0185908632  0.0236415020\n",
       " [6]  0.0048032762  0.0001647525  0.0301703381  0.0111986375 -0.0079813185\n",
       "[11]  0.0154288784 -0.0127187225  0.0236587254  0.0199345299"
      ]
     },
     "metadata": {},
     "output_type": "display_data"
    }
   ],
   "source": [
    "fit2 <- ar(tradeSign, aic = TRUE, order.max = NULL)\n",
    "fit2$ar"
   ]
  },
  {
   "cell_type": "markdown",
   "metadata": {},
   "source": [
    "(e) What value of $p$ is selected by R?  What is the mean-squared error of this AR(p) forecast?"
   ]
  },
  {
   "cell_type": "markdown",
   "metadata": {},
   "source": [
    "The aic criteria selects 14 lags but the mean-squared error is actually just slightly lower than the AR(1) model $(R^2 \\approx 0.3105).$ "
   ]
  },
  {
   "cell_type": "code",
   "execution_count": 9,
   "metadata": {},
   "outputs": [
    {
     "data": {
      "text/html": [
       "14"
      ],
      "text/latex": [
       "14"
      ],
      "text/markdown": [
       "14"
      ],
      "text/plain": [
       "[1] 14"
      ]
     },
     "metadata": {},
     "output_type": "display_data"
    }
   ],
   "source": [
    "fit2$order"
   ]
  },
  {
   "cell_type": "code",
   "execution_count": 10,
   "metadata": {},
   "outputs": [
    {
     "data": {
      "text/html": [
       "0.310572756726987"
      ],
      "text/latex": [
       "0.310572756726987"
      ],
      "text/markdown": [
       "0.310572756726987"
      ],
      "text/plain": [
       "[1] 0.3105728"
      ]
     },
     "metadata": {},
     "output_type": "display_data"
    }
   ],
   "source": [
    "resd <- fit2$resid^2\n",
    "mean(resd, na.rm=TRUE)"
   ]
  },
  {
   "cell_type": "markdown",
   "metadata": {},
   "source": [
    "### 3. (8 points)\n",
    "\n",
    "(a) Bin the AR(p) forecast data from the previous problem by forecast sign with bin-breaks from -1.01 to 1.01 in steps of 0.02."
   ]
  },
  {
   "cell_type": "code",
   "execution_count": 11,
   "metadata": {},
   "outputs": [
    {
     "data": {
      "image/png": "[encoded data removed]",
      "text/plain": [
       "Plot with title \"AR(p) fitted sign values\""
      ]
     },
     "metadata": {},
     "output_type": "display_data"
    },
    {
     "data": {
      "image/png": "[encoded data removed]",
      "text/plain": [
       "Plot with title \"Histogram (forecast)\""
      ]
     },
     "metadata": {},
     "output_type": "display_data"
    }
   ],
   "source": [
    "fitted <- tradeSign - fit2$resid\n",
    "options(repr.plot.width=12)\n",
    "plot(fitted, main=\"AR(p) fitted sign values\", xlab=\"Index\", ylab=\"Fitted value\" )\n",
    "\n",
    "# bin the data\n",
    "bin_values <- seq(-1.01, 1.01, by = 0.02)\n",
    "bins <- cut(fitted, bin_values, include.lowest = TRUE, right=FALSE)\n",
    "plot(bins, main=\"Histogram (forecast)\", xlab=\"Bin\", ylab=\"Frequency\")"
   ]
  },
  {
   "cell_type": "markdown",
   "metadata": {},
   "source": [
    "(b) Plot the average actual order sign in each bin against the average forecast order sign.  What is the slope of the resulting graph? (Hint: use the R function *lm*)."
   ]
  },
  {
   "cell_type": "markdown",
   "metadata": {},
   "source": [
    "The slope of the fitted line is very close to 1."
   ]
  },
  {
   "cell_type": "code",
   "execution_count": 12,
   "metadata": {},
   "outputs": [
    {
     "data": {
      "text/plain": [
       "\n",
       "Call:\n",
       "lm(formula = avg_forecast ~ avg_actual)\n",
       "\n",
       "Residuals:\n",
       "     Min       1Q   Median       3Q      Max \n",
       "-0.16014 -0.04057 -0.00190  0.02573  0.45677 \n",
       "\n",
       "Coefficients:\n",
       "            Estimate Std. Error t value Pr(>|t|)    \n",
       "(Intercept)  0.00476    0.01348   0.353    0.725    \n",
       "avg_actual   1.00020    0.01892  52.866   <2e-16 ***\n",
       "---\n",
       "Signif. codes:  0 '***' 0.001 '**' 0.01 '*' 0.05 '.' 0.1 ' ' 1\n",
       "\n",
       "Residual standard error: 0.09622 on 49 degrees of freedom\n",
       "  (50 observations deleted due to missingness)\n",
       "Multiple R-squared:  0.9828,\tAdjusted R-squared:  0.9824 \n",
       "F-statistic:  2795 on 1 and 49 DF,  p-value: < 2.2e-16\n"
      ]
     },
     "metadata": {},
     "output_type": "display_data"
    },
    {
     "data": {
      "image/png": "[encoded data removed]",
      "text/plain": [
       "Plot with title \"Average order sign per bin (Actual vs Forecast)\""
      ]
     },
     "metadata": {},
     "output_type": "display_data"
    }
   ],
   "source": [
    "avg_forecast <- tapply(fitted, bins, mean)\n",
    "avg_actual <- tapply(tradeSign, bins, mean)\n",
    "fit_avg <- lm(avg_forecast ~ avg_actual)\n",
    "plot(avg_forecast, avg_actual, main=\"Average order sign per bin (Actual vs Forecast)\", \n",
    "     xlab=\"Forecast\", ylab=\"Actual\", pch=19)\n",
    "abline(fit_avg, col='red', lwd=3)\n",
    "slope_text <- paste(\"fit slope = \", fit_avg$coefficients[2])\n",
    "mtext(slope_text, 3, -2)\n",
    "summary(fit_avg)"
   ]
  },
  {
   "cell_type": "markdown",
   "metadata": {},
   "source": [
    "(c) If the expected order sign is $\\hat \\epsilon$, what is the probability $p$ that the next trade will be a market buy?"
   ]
  },
  {
   "cell_type": "markdown",
   "metadata": {},
   "source": [
    "According to Lecture 4 notes on the MRR model, the value of $p$ would depend on the value of $\\hat \\epsilon$. \n",
    "\n",
    "For the AR(1) representation we have\n",
    "$$\\hat \\epsilon = \\mathbb{E} [\\epsilon_t|\\epsilon_{t-1}]=\\phi_1\\,\\epsilon_{t-1}.$$\n",
    "If the previous sign is a buy, $p$ is the continuation probability $\\gamma$ that the sign remains the same:\n",
    "$$\n",
    "\\begin{align}\n",
    "2\\,\\gamma-1 = \\phi_1\\\\\n",
    "\\implies \\gamma =& \\frac{\\phi_1 + 1}{2}\\\\\n",
    "\\implies \\gamma =& \\frac{1.821}{2}\\\\\n",
    "\\implies \\gamma =& 0.9105\n",
    "\\end{align}\n",
    "$$\n",
    "\n",
    "If the previous sign is a sell, $p$ is the sign reversal probability $\\pi$:\n",
    "$$\n",
    "\\begin{align}\n",
    "1-2\\pi = \\phi_1\\\\\n",
    "\\implies \\pi =& \\frac{1-\\phi_1}{2}\\\\\n",
    "\\implies \\pi =& \\frac{0.179}{2}\\\\\n",
    "\\implies \\pi =& 0.0895\n",
    "\\end{align}\n",
    "$$\n",
    "\n"
   ]
  },
  {
   "cell_type": "markdown",
   "metadata": {},
   "source": [
    "If we assume that buys and sells are equally possible then we get an unconditional probability of 0.5 for the next trade being a market buy. "
   ]
  }
 ],
 "metadata": {
  "celltoolbar": "Slideshow",
  "kernelspec": {
   "display_name": "R",
   "language": "R",
   "name": "ir"
  },
  "language_info": {
   "codemirror_mode": "r",
   "file_extension": ".r",
   "mimetype": "text/x-r-source",
   "name": "R",
   "pygments_lexer": "r",
   "version": "3.5.2"
  }
 },
 "nbformat": 4,
 "nbformat_minor": 2
}
